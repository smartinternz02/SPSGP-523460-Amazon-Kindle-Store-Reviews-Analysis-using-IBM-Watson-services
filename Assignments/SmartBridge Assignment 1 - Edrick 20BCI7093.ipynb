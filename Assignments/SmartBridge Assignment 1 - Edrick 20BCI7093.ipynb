{
 "cells": [
  {
   "cell_type": "markdown",
   "id": "4683929b",
   "metadata": {},
   "source": [
    "## Question 1\n",
    "1 Create a pandas dataframe (DataFrame name as 'df') with numpy random values (4 features and 4 observation)"
   ]
  },
  {
   "cell_type": "code",
   "execution_count": 1,
   "id": "1c74870b",
   "metadata": {},
   "outputs": [],
   "source": [
    "import pandas as pd \n",
    "import numpy as np\n",
    "\n",
    "s1=pd.Series(np.random.rand(4))\n",
    "s2=pd.Series(np.random.rand(4))\n",
    "s3=pd.Series(np.random.rand(4))\n",
    "s4=pd.Series(np.random.rand(4))"
   ]
  },
  {
   "cell_type": "code",
   "execution_count": 2,
   "id": "484e056a",
   "metadata": {},
   "outputs": [
    {
     "data": {
      "text/html": [
       "<div>\n",
       "<style scoped>\n",
       "    .dataframe tbody tr th:only-of-type {\n",
       "        vertical-align: middle;\n",
       "    }\n",
       "\n",
       "    .dataframe tbody tr th {\n",
       "        vertical-align: top;\n",
       "    }\n",
       "\n",
       "    .dataframe thead th {\n",
       "        text-align: right;\n",
       "    }\n",
       "</style>\n",
       "<table border=\"1\" class=\"dataframe\">\n",
       "  <thead>\n",
       "    <tr style=\"text-align: right;\">\n",
       "      <th></th>\n",
       "      <th>0</th>\n",
       "      <th>1</th>\n",
       "      <th>2</th>\n",
       "      <th>3</th>\n",
       "    </tr>\n",
       "  </thead>\n",
       "  <tbody>\n",
       "    <tr>\n",
       "      <th>0</th>\n",
       "      <td>0.525822</td>\n",
       "      <td>0.761204</td>\n",
       "      <td>0.441452</td>\n",
       "      <td>0.354540</td>\n",
       "    </tr>\n",
       "    <tr>\n",
       "      <th>1</th>\n",
       "      <td>0.273306</td>\n",
       "      <td>0.399551</td>\n",
       "      <td>0.173980</td>\n",
       "      <td>0.523658</td>\n",
       "    </tr>\n",
       "    <tr>\n",
       "      <th>2</th>\n",
       "      <td>0.809698</td>\n",
       "      <td>0.400623</td>\n",
       "      <td>0.217356</td>\n",
       "      <td>0.106482</td>\n",
       "    </tr>\n",
       "    <tr>\n",
       "      <th>3</th>\n",
       "      <td>0.483756</td>\n",
       "      <td>0.078363</td>\n",
       "      <td>0.075906</td>\n",
       "      <td>0.280189</td>\n",
       "    </tr>\n",
       "  </tbody>\n",
       "</table>\n",
       "</div>"
      ],
      "text/plain": [
       "          0         1         2         3\n",
       "0  0.525822  0.761204  0.441452  0.354540\n",
       "1  0.273306  0.399551  0.173980  0.523658\n",
       "2  0.809698  0.400623  0.217356  0.106482\n",
       "3  0.483756  0.078363  0.075906  0.280189"
      ]
     },
     "execution_count": 2,
     "metadata": {},
     "output_type": "execute_result"
    }
   ],
   "source": [
    "df=pd.DataFrame([s1,s2,s3,s4])\n",
    "df"
   ]
  },
  {
   "cell_type": "markdown",
   "id": "2eddb761",
   "metadata": {},
   "source": [
    "## Question 2 \n",
    "Rename the task - 1 'df' dataframe column names to 'Random value 1', 'Random value 2', 'Random value 3' & 'Random value 4'"
   ]
  },
  {
   "cell_type": "code",
   "execution_count": 3,
   "id": "3e3d51ab",
   "metadata": {},
   "outputs": [
    {
     "data": {
      "text/html": [
       "<div>\n",
       "<style scoped>\n",
       "    .dataframe tbody tr th:only-of-type {\n",
       "        vertical-align: middle;\n",
       "    }\n",
       "\n",
       "    .dataframe tbody tr th {\n",
       "        vertical-align: top;\n",
       "    }\n",
       "\n",
       "    .dataframe thead th {\n",
       "        text-align: right;\n",
       "    }\n",
       "</style>\n",
       "<table border=\"1\" class=\"dataframe\">\n",
       "  <thead>\n",
       "    <tr style=\"text-align: right;\">\n",
       "      <th></th>\n",
       "      <th>Random Value 1</th>\n",
       "      <th>Random Value 2</th>\n",
       "      <th>Random Value 3</th>\n",
       "      <th>Random Value 4</th>\n",
       "    </tr>\n",
       "  </thead>\n",
       "  <tbody>\n",
       "    <tr>\n",
       "      <th>0</th>\n",
       "      <td>0.525822</td>\n",
       "      <td>0.761204</td>\n",
       "      <td>0.441452</td>\n",
       "      <td>0.354540</td>\n",
       "    </tr>\n",
       "    <tr>\n",
       "      <th>1</th>\n",
       "      <td>0.273306</td>\n",
       "      <td>0.399551</td>\n",
       "      <td>0.173980</td>\n",
       "      <td>0.523658</td>\n",
       "    </tr>\n",
       "    <tr>\n",
       "      <th>2</th>\n",
       "      <td>0.809698</td>\n",
       "      <td>0.400623</td>\n",
       "      <td>0.217356</td>\n",
       "      <td>0.106482</td>\n",
       "    </tr>\n",
       "    <tr>\n",
       "      <th>3</th>\n",
       "      <td>0.483756</td>\n",
       "      <td>0.078363</td>\n",
       "      <td>0.075906</td>\n",
       "      <td>0.280189</td>\n",
       "    </tr>\n",
       "  </tbody>\n",
       "</table>\n",
       "</div>"
      ],
      "text/plain": [
       "   Random Value 1  Random Value 2  Random Value 3  Random Value 4\n",
       "0        0.525822        0.761204        0.441452        0.354540\n",
       "1        0.273306        0.399551        0.173980        0.523658\n",
       "2        0.809698        0.400623        0.217356        0.106482\n",
       "3        0.483756        0.078363        0.075906        0.280189"
      ]
     },
     "execution_count": 3,
     "metadata": {},
     "output_type": "execute_result"
    }
   ],
   "source": [
    "df.rename(columns={0:'Random Value 1',1:'Random Value 2',2:'Random Value 3',3:'Random Value 4'},inplace=True)\n",
    "df"
   ]
  },
  {
   "cell_type": "markdown",
   "id": "2db9753c",
   "metadata": {},
   "source": [
    "## Question 3\n",
    "Find the descriptive statistics of the 'df' dataframe"
   ]
  },
  {
   "cell_type": "code",
   "execution_count": 4,
   "id": "7cc4eb13",
   "metadata": {},
   "outputs": [
    {
     "data": {
      "text/html": [
       "<div>\n",
       "<style scoped>\n",
       "    .dataframe tbody tr th:only-of-type {\n",
       "        vertical-align: middle;\n",
       "    }\n",
       "\n",
       "    .dataframe tbody tr th {\n",
       "        vertical-align: top;\n",
       "    }\n",
       "\n",
       "    .dataframe thead th {\n",
       "        text-align: right;\n",
       "    }\n",
       "</style>\n",
       "<table border=\"1\" class=\"dataframe\">\n",
       "  <thead>\n",
       "    <tr style=\"text-align: right;\">\n",
       "      <th></th>\n",
       "      <th>Random Value 1</th>\n",
       "      <th>Random Value 2</th>\n",
       "      <th>Random Value 3</th>\n",
       "      <th>Random Value 4</th>\n",
       "    </tr>\n",
       "  </thead>\n",
       "  <tbody>\n",
       "    <tr>\n",
       "      <th>count</th>\n",
       "      <td>4.000000</td>\n",
       "      <td>4.000000</td>\n",
       "      <td>4.000000</td>\n",
       "      <td>4.000000</td>\n",
       "    </tr>\n",
       "    <tr>\n",
       "      <th>mean</th>\n",
       "      <td>0.523146</td>\n",
       "      <td>0.409935</td>\n",
       "      <td>0.227174</td>\n",
       "      <td>0.316217</td>\n",
       "    </tr>\n",
       "    <tr>\n",
       "      <th>std</th>\n",
       "      <td>0.220674</td>\n",
       "      <td>0.279001</td>\n",
       "      <td>0.154621</td>\n",
       "      <td>0.173001</td>\n",
       "    </tr>\n",
       "    <tr>\n",
       "      <th>min</th>\n",
       "      <td>0.273306</td>\n",
       "      <td>0.078363</td>\n",
       "      <td>0.075906</td>\n",
       "      <td>0.106482</td>\n",
       "    </tr>\n",
       "    <tr>\n",
       "      <th>25%</th>\n",
       "      <td>0.431143</td>\n",
       "      <td>0.319254</td>\n",
       "      <td>0.149462</td>\n",
       "      <td>0.236762</td>\n",
       "    </tr>\n",
       "    <tr>\n",
       "      <th>50%</th>\n",
       "      <td>0.504789</td>\n",
       "      <td>0.400087</td>\n",
       "      <td>0.195668</td>\n",
       "      <td>0.317365</td>\n",
       "    </tr>\n",
       "    <tr>\n",
       "      <th>75%</th>\n",
       "      <td>0.596791</td>\n",
       "      <td>0.490768</td>\n",
       "      <td>0.273380</td>\n",
       "      <td>0.396820</td>\n",
       "    </tr>\n",
       "    <tr>\n",
       "      <th>max</th>\n",
       "      <td>0.809698</td>\n",
       "      <td>0.761204</td>\n",
       "      <td>0.441452</td>\n",
       "      <td>0.523658</td>\n",
       "    </tr>\n",
       "  </tbody>\n",
       "</table>\n",
       "</div>"
      ],
      "text/plain": [
       "       Random Value 1  Random Value 2  Random Value 3  Random Value 4\n",
       "count        4.000000        4.000000        4.000000        4.000000\n",
       "mean         0.523146        0.409935        0.227174        0.316217\n",
       "std          0.220674        0.279001        0.154621        0.173001\n",
       "min          0.273306        0.078363        0.075906        0.106482\n",
       "25%          0.431143        0.319254        0.149462        0.236762\n",
       "50%          0.504789        0.400087        0.195668        0.317365\n",
       "75%          0.596791        0.490768        0.273380        0.396820\n",
       "max          0.809698        0.761204        0.441452        0.523658"
      ]
     },
     "execution_count": 4,
     "metadata": {},
     "output_type": "execute_result"
    }
   ],
   "source": [
    "df.describe(include='all')"
   ]
  },
  {
   "cell_type": "markdown",
   "id": "9e87aa51",
   "metadata": {},
   "source": [
    "## Question 4\n",
    "Check for the null values in 'df' and find the data type of the columns"
   ]
  },
  {
   "cell_type": "code",
   "execution_count": 5,
   "id": "0475aeb0",
   "metadata": {},
   "outputs": [
    {
     "data": {
      "text/plain": [
       "Random Value 1    False\n",
       "Random Value 2    False\n",
       "Random Value 3    False\n",
       "Random Value 4    False\n",
       "dtype: bool"
      ]
     },
     "execution_count": 5,
     "metadata": {},
     "output_type": "execute_result"
    }
   ],
   "source": [
    "df.isnull().all()"
   ]
  },
  {
   "cell_type": "code",
   "execution_count": 6,
   "id": "bf9ba2d8",
   "metadata": {},
   "outputs": [
    {
     "data": {
      "text/plain": [
       "dtype('float64')"
      ]
     },
     "execution_count": 6,
     "metadata": {},
     "output_type": "execute_result"
    }
   ],
   "source": [
    "df['Random Value 1'].dtype"
   ]
  },
  {
   "cell_type": "code",
   "execution_count": 7,
   "id": "261482da",
   "metadata": {},
   "outputs": [
    {
     "data": {
      "text/plain": [
       "dtype('float64')"
      ]
     },
     "execution_count": 7,
     "metadata": {},
     "output_type": "execute_result"
    }
   ],
   "source": [
    "df['Random Value 2'].dtype"
   ]
  },
  {
   "cell_type": "code",
   "execution_count": 8,
   "id": "cc67427f",
   "metadata": {},
   "outputs": [
    {
     "data": {
      "text/plain": [
       "dtype('float64')"
      ]
     },
     "execution_count": 8,
     "metadata": {},
     "output_type": "execute_result"
    }
   ],
   "source": [
    "df['Random Value 3'].dtype"
   ]
  },
  {
   "cell_type": "code",
   "execution_count": 9,
   "id": "19ff8856",
   "metadata": {},
   "outputs": [
    {
     "data": {
      "text/plain": [
       "dtype('float64')"
      ]
     },
     "execution_count": 9,
     "metadata": {},
     "output_type": "execute_result"
    }
   ],
   "source": [
    "df['Random Value 4'].dtype"
   ]
  },
  {
   "cell_type": "markdown",
   "id": "de107546",
   "metadata": {},
   "source": [
    "## Question 5 \n",
    "Display the 'Random value 2' & 'Random value 3' columns with location method and index location method."
   ]
  },
  {
   "cell_type": "code",
   "execution_count": 10,
   "id": "5051146a",
   "metadata": {},
   "outputs": [
    {
     "data": {
      "text/plain": [
       "0    0.761204\n",
       "1    0.399551\n",
       "2    0.400623\n",
       "3    0.078363\n",
       "Name: Random Value 2, dtype: float64"
      ]
     },
     "execution_count": 10,
     "metadata": {},
     "output_type": "execute_result"
    }
   ],
   "source": [
    "df.loc[0:,'Random Value 2']"
   ]
  }
 ],
 "metadata": {
  "kernelspec": {
   "display_name": "Python 3 (ipykernel)",
   "language": "python",
   "name": "python3"
  },
  "language_info": {
   "codemirror_mode": {
    "name": "ipython",
    "version": 3
   },
   "file_extension": ".py",
   "mimetype": "text/x-python",
   "name": "python",
   "nbconvert_exporter": "python",
   "pygments_lexer": "ipython3",
   "version": "3.9.12"
  }
 },
 "nbformat": 4,
 "nbformat_minor": 5
}
